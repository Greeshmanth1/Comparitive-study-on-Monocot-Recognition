{
 "cells": [
  {
   "cell_type": "markdown",
   "id": "b5e97538",
   "metadata": {},
   "source": [
    "# EfficientNet"
   ]
  },
  {
   "cell_type": "markdown",
   "id": "146137d5",
   "metadata": {},
   "source": [
    "### Import required Libraries"
   ]
  },
  {
   "cell_type": "code",
   "execution_count": 6,
   "id": "0bc894f4",
   "metadata": {},
   "outputs": [],
   "source": [
    "from tensorflow.keras.layers import Conv2D, Flatten, Dense, MaxPool2D, BatchNormalization, GlobalAveragePooling2D\n",
    "from tensorflow.keras.applications.resnet50 import ResNet50, preprocess_input, decode_predictions\n",
    "from tensorflow.keras.preprocessing import image\n",
    "from tensorflow.keras.preprocessing.image import ImageDataGenerator, load_img\n",
    "from tensorflow.keras.models import Sequential, Model\n",
    "import matplotlib.pyplot as plt\n",
    "import numpy as np\n",
    "import splitfolders\n",
    "from tensorflow.keras.applications import EfficientNetB7"
   ]
  },
  {
   "cell_type": "markdown",
   "id": "c855f2b5",
   "metadata": {},
   "source": [
    "### Set Hyperparameters and Paths"
   ]
  },
  {
   "cell_type": "code",
   "execution_count": 2,
   "id": "7b83d02a",
   "metadata": {},
   "outputs": [],
   "source": [
    "SEED = 42\n",
    "IMG_HEIGHT, IMG_WIDTH = (224, 224)\n",
    "BATCH_SIZE = 64\n",
    "EPOCHS = 5\n",
    "output=r'C:\\Users\\GREESHMANTH\\Desktop\\Major Project\\Code\\Data_split'\n",
    "OUTPUT_DIR = output\n",
    "train_data_dir = f\"{OUTPUT_DIR}/Balanced\"\n",
    "valid_data_dir = f\"{OUTPUT_DIR}/val\"\n",
    "test_data_dir = f\"{OUTPUT_DIR}/test\""
   ]
  },
  {
   "cell_type": "markdown",
   "id": "663e7266",
   "metadata": {},
   "source": [
    "### Load the Data"
   ]
  },
  {
   "cell_type": "code",
   "execution_count": 3,
   "id": "7d587b98",
   "metadata": {},
   "outputs": [
    {
     "name": "stdout",
     "output_type": "stream",
     "text": [
      "Found 1925 images belonging to 5 classes.\n",
      "Found 100 images belonging to 5 classes.\n",
      "Found 106 images belonging to 5 classes.\n"
     ]
    }
   ],
   "source": [
    "train_datagen = ImageDataGenerator(\n",
    "    preprocessing_function=preprocess_input)\n",
    "\n",
    "test_datagen = ImageDataGenerator(\n",
    "    preprocessing_function=preprocess_input)\n",
    "\n",
    "train_generator = train_datagen.flow_from_directory(\n",
    "    train_data_dir,\n",
    "    target_size=(IMG_HEIGHT, IMG_WIDTH),\n",
    "    batch_size=BATCH_SIZE,\n",
    "    class_mode=\"categorical\")\n",
    "\n",
    "valid_generator = train_datagen.flow_from_directory(\n",
    "    valid_data_dir,\n",
    "    target_size=(IMG_HEIGHT, IMG_WIDTH),\n",
    "    batch_size=BATCH_SIZE,\n",
    "    class_mode=\"categorical\")\n",
    "\n",
    "\n",
    "test_generator = test_datagen.flow_from_directory(\n",
    "    test_data_dir,\n",
    "    target_size=(IMG_HEIGHT, IMG_WIDTH),\n",
    "    batch_size=1,\n",
    "    class_mode=\"categorical\")"
   ]
  },
  {
   "cell_type": "markdown",
   "id": "1a111077",
   "metadata": {},
   "source": [
    "### Load the Model"
   ]
  },
  {
   "cell_type": "code",
   "execution_count": 7,
   "id": "6d706390",
   "metadata": {},
   "outputs": [
    {
     "name": "stdout",
     "output_type": "stream",
     "text": [
      "Downloading data from https://storage.googleapis.com/keras-applications/efficientnetb7_notop.h5\n",
      "258080768/258076736 [==============================] - 74s 0us/step\n",
      "258088960/258076736 [==============================] - 74s 0us/step\n"
     ]
    }
   ],
   "source": [
    "base_model = EfficientNetB7(include_top=False, weights='imagenet')"
   ]
  },
  {
   "cell_type": "markdown",
   "id": "b7c4d6e3",
   "metadata": {},
   "source": [
    "### Add the Layers"
   ]
  },
  {
   "cell_type": "code",
   "execution_count": 8,
   "id": "f9f97309",
   "metadata": {},
   "outputs": [],
   "source": [
    "x = base_model.output\n",
    "# print(x.shape)\n",
    "x = GlobalAveragePooling2D()(x)\n",
    "# print(x.shape)\n",
    "x = Dense(1024, activation=\"softmax\")(x)\n",
    "# print(x.shape)\n",
    "predictions = Dense(train_generator.num_classes, activation=\"softmax\")(x)\n",
    "# print(predictions.shape)\n",
    "model = Model(inputs=base_model.input, outputs=predictions)"
   ]
  },
  {
   "cell_type": "markdown",
   "id": "d4ae29aa",
   "metadata": {},
   "source": [
    "### Make the Trainable Layers False"
   ]
  },
  {
   "cell_type": "code",
   "execution_count": 9,
   "id": "6db08a59",
   "metadata": {},
   "outputs": [],
   "source": [
    "for layer in base_model.layers:\n",
    "    layer.trainable = False"
   ]
  },
  {
   "cell_type": "markdown",
   "id": "afef2baa",
   "metadata": {},
   "source": [
    "### Compile the model by selecting Appropriate Optimizer"
   ]
  },
  {
   "cell_type": "code",
   "execution_count": 10,
   "id": "1f7ecc3e",
   "metadata": {},
   "outputs": [],
   "source": [
    "model.compile(\n",
    "    optimizer=\"pgd\",\n",
    "    loss=\"categorical_crossentropy\",\n",
    "    metrics=[\"accuracy\"])"
   ]
  },
  {
   "cell_type": "markdown",
   "id": "1024e2ed",
   "metadata": {},
   "source": [
    "### Train the model"
   ]
  },
  {
   "cell_type": "code",
   "execution_count": 11,
   "id": "9f76d726",
   "metadata": {},
   "outputs": [
    {
     "name": "stdout",
     "output_type": "stream",
     "text": [
      "Epoch 1/3\n",
      "31/31 [==============================] - 728s 23s/step - loss: 0.4374 - accuracy: 0.8410 - val_loss: 0.2441 - val_accuracy: 0.9400\n",
      "Epoch 2/3\n",
      "31/31 [==============================] - 568s 18s/step - loss: 0.1259 - accuracy: 0.9616 - val_loss: 0.3041 - val_accuracy: 0.9100\n",
      "Epoch 3/3\n",
      "31/31 [==============================] - 586s 19s/step - loss: 0.0583 - accuracy: 0.9813 - val_loss: 0.2865 - val_accuracy: 0.9300\n"
     ]
    }
   ],
   "source": [
    "history = model.fit(train_generator,\n",
    "                    validation_data=valid_generator,\n",
    "                    epochs=3)"
   ]
  },
  {
   "cell_type": "markdown",
   "id": "797c6775",
   "metadata": {},
   "source": [
    "### Evaluate the Test Accuracy"
   ]
  },
  {
   "cell_type": "code",
   "execution_count": 12,
   "id": "3851720e",
   "metadata": {},
   "outputs": [
    {
     "name": "stdout",
     "output_type": "stream",
     "text": [
      "106/106 - 45s - loss: 0.2355 - accuracy: 0.9057 - 45s/epoch - 423ms/step\n",
      "0.9056603908538818\n"
     ]
    }
   ],
   "source": [
    "test_loss, test_acc = model.evaluate(test_generator, verbose=2)\n",
    "print(test_acc)"
   ]
  },
  {
   "cell_type": "markdown",
   "id": "dd9d4463",
   "metadata": {},
   "source": [
    "### Save the EfficientNet model"
   ]
  },
  {
   "cell_type": "code",
   "execution_count": 13,
   "id": "ae2d00c2",
   "metadata": {},
   "outputs": [],
   "source": [
    "path=r\"C:\\Users\\GREESHMANTH\\Desktop\\Major Project\\Models\\EfficientNet.h5\"\n",
    "model.save(path)"
   ]
  }
 ],
 "metadata": {
  "kernelspec": {
   "display_name": "Python 3 (ipykernel)",
   "language": "python",
   "name": "python3"
  },
  "language_info": {
   "codemirror_mode": {
    "name": "ipython",
    "version": 3
   },
   "file_extension": ".py",
   "mimetype": "text/x-python",
   "name": "python",
   "nbconvert_exporter": "python",
   "pygments_lexer": "ipython3",
   "version": "3.9.7"
  }
 },
 "nbformat": 4,
 "nbformat_minor": 5
}
