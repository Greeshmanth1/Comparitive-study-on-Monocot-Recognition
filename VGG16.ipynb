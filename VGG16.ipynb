{
 "cells": [
  {
   "cell_type": "markdown",
   "id": "6242d733",
   "metadata": {},
   "source": [
    "# VGG16"
   ]
  },
  {
   "cell_type": "markdown",
   "id": "f29e3be9",
   "metadata": {},
   "source": [
    "### Import Required Libraries"
   ]
  },
  {
   "cell_type": "code",
   "execution_count": 1,
   "id": "c3770b0e",
   "metadata": {},
   "outputs": [],
   "source": [
    "from tensorflow.keras.layers import Conv2D, Flatten, Dense, MaxPool2D, BatchNormalization, GlobalAveragePooling2D\n",
    "from tensorflow.keras.applications.resnet50 import ResNet50, preprocess_input, decode_predictions\n",
    "from tensorflow.keras.preprocessing import image\n",
    "from tensorflow.keras.preprocessing.image import ImageDataGenerator, load_img\n",
    "from tensorflow.keras.models import Sequential, Model\n",
    "import matplotlib.pyplot as plt\n",
    "import numpy as np\n",
    "import splitfolders\n",
    "from tensorflow.keras.applications import vgg16\n",
    "from keras.applications.vgg16 import VGG16"
   ]
  },
  {
   "cell_type": "markdown",
   "id": "20a3c0aa",
   "metadata": {},
   "source": [
    "### Set Hyperparameters and Paths"
   ]
  },
  {
   "cell_type": "code",
   "execution_count": 2,
   "id": "97dddba8",
   "metadata": {},
   "outputs": [],
   "source": [
    "SEED = 42\n",
    "IMG_HEIGHT, IMG_WIDTH = (224, 224)\n",
    "BATCH_SIZE = 64\n",
    "EPOCHS = 5\n",
    "output=r'C:\\Users\\GREESHMANTH\\Desktop\\Major Project\\Code\\Data_split'\n",
    "OUTPUT_DIR = output\n",
    "train_data_dir = f\"{OUTPUT_DIR}/Balanced\"\n",
    "valid_data_dir = f\"{OUTPUT_DIR}/val\"\n",
    "test_data_dir = f\"{OUTPUT_DIR}/test\""
   ]
  },
  {
   "cell_type": "markdown",
   "id": "dd3cdd07",
   "metadata": {},
   "source": [
    "### Load the Data"
   ]
  },
  {
   "cell_type": "code",
   "execution_count": 3,
   "id": "13b78861",
   "metadata": {},
   "outputs": [
    {
     "name": "stdout",
     "output_type": "stream",
     "text": [
      "Found 1925 images belonging to 5 classes.\n",
      "Found 100 images belonging to 5 classes.\n",
      "Found 106 images belonging to 5 classes.\n"
     ]
    }
   ],
   "source": [
    "train_datagen = ImageDataGenerator(\n",
    "    preprocessing_function=preprocess_input)\n",
    "\n",
    "test_datagen = ImageDataGenerator(\n",
    "    preprocessing_function=preprocess_input)\n",
    "\n",
    "train_generator = train_datagen.flow_from_directory(\n",
    "    train_data_dir,\n",
    "    target_size=(IMG_HEIGHT, IMG_WIDTH),\n",
    "    batch_size=BATCH_SIZE,\n",
    "    class_mode=\"categorical\")\n",
    "\n",
    "valid_generator = train_datagen.flow_from_directory(\n",
    "    valid_data_dir,\n",
    "    target_size=(IMG_HEIGHT, IMG_WIDTH),\n",
    "    batch_size=BATCH_SIZE,\n",
    "    class_mode=\"categorical\")\n",
    "\n",
    "\n",
    "test_generator = test_datagen.flow_from_directory(\n",
    "    test_data_dir,\n",
    "    target_size=(IMG_HEIGHT, IMG_WIDTH),\n",
    "    batch_size=1,\n",
    "    class_mode=\"categorical\")"
   ]
  },
  {
   "cell_type": "markdown",
   "id": "d9203467",
   "metadata": {},
   "source": [
    "### Load the Model"
   ]
  },
  {
   "cell_type": "code",
   "execution_count": 13,
   "id": "b4d43653",
   "metadata": {},
   "outputs": [],
   "source": [
    "base_model = VGG16(include_top=False, weights=\"imagenet\")"
   ]
  },
  {
   "cell_type": "markdown",
   "id": "cb75f63f",
   "metadata": {},
   "source": [
    "#### Add the Layers"
   ]
  },
  {
   "cell_type": "code",
   "execution_count": 21,
   "id": "0559a4ae",
   "metadata": {},
   "outputs": [],
   "source": [
    "x = base_model.output\n",
    "# print(x.shape)\n",
    "x = GlobalAveragePooling2D()(x)\n",
    "# print(x.shape)\n",
    "x = Dense(1024, activation=\"softmax\")(x)\n",
    "# print(x.shape)\n",
    "predictions = Dense(train_generator.num_classes, activation=\"softmax\")(x)\n",
    "# print(predictions.shape)\n",
    "model = Model(inputs=base_model.input, outputs=predictions)"
   ]
  },
  {
   "cell_type": "markdown",
   "id": "16dbde2c",
   "metadata": {},
   "source": [
    "### Model Summary"
   ]
  },
  {
   "cell_type": "code",
   "execution_count": 14,
   "id": "40398464",
   "metadata": {
    "scrolled": true
   },
   "outputs": [
    {
     "name": "stdout",
     "output_type": "stream",
     "text": [
      "Model: \"model_1\"\n",
      "_________________________________________________________________\n",
      " Layer (type)                Output Shape              Param #   \n",
      "=================================================================\n",
      " input_2 (InputLayer)        [(None, None, None, 3)]   0         \n",
      "                                                                 \n",
      " block1_conv1 (Conv2D)       (None, None, None, 64)    1792      \n",
      "                                                                 \n",
      " block1_conv2 (Conv2D)       (None, None, None, 64)    36928     \n",
      "                                                                 \n",
      " block1_pool (MaxPooling2D)  (None, None, None, 64)    0         \n",
      "                                                                 \n",
      " block2_conv1 (Conv2D)       (None, None, None, 128)   73856     \n",
      "                                                                 \n",
      " block2_conv2 (Conv2D)       (None, None, None, 128)   147584    \n",
      "                                                                 \n",
      " block2_pool (MaxPooling2D)  (None, None, None, 128)   0         \n",
      "                                                                 \n",
      " block3_conv1 (Conv2D)       (None, None, None, 256)   295168    \n",
      "                                                                 \n",
      " block3_conv2 (Conv2D)       (None, None, None, 256)   590080    \n",
      "                                                                 \n",
      " block3_conv3 (Conv2D)       (None, None, None, 256)   590080    \n",
      "                                                                 \n",
      " block3_pool (MaxPooling2D)  (None, None, None, 256)   0         \n",
      "                                                                 \n",
      " block4_conv1 (Conv2D)       (None, None, None, 512)   1180160   \n",
      "                                                                 \n",
      " block4_conv2 (Conv2D)       (None, None, None, 512)   2359808   \n",
      "                                                                 \n",
      " block4_conv3 (Conv2D)       (None, None, None, 512)   2359808   \n",
      "                                                                 \n",
      " block4_pool (MaxPooling2D)  (None, None, None, 512)   0         \n",
      "                                                                 \n",
      " block5_conv1 (Conv2D)       (None, None, None, 512)   2359808   \n",
      "                                                                 \n",
      " block5_conv2 (Conv2D)       (None, None, None, 512)   2359808   \n",
      "                                                                 \n",
      " block5_conv3 (Conv2D)       (None, None, None, 512)   2359808   \n",
      "                                                                 \n",
      " block5_pool (MaxPooling2D)  (None, None, None, 512)   0         \n",
      "                                                                 \n",
      " global_average_pooling2d_1   (None, 512)              0         \n",
      " (GlobalAveragePooling2D)                                        \n",
      "                                                                 \n",
      " dense_2 (Dense)             (None, 1024)              525312    \n",
      "                                                                 \n",
      " dense_3 (Dense)             (None, 5)                 5125      \n",
      "                                                                 \n",
      "=================================================================\n",
      "Total params: 15,245,125\n",
      "Trainable params: 15,245,125\n",
      "Non-trainable params: 0\n",
      "_________________________________________________________________\n",
      "None\n"
     ]
    }
   ],
   "source": [
    "print(model.summary())"
   ]
  },
  {
   "cell_type": "markdown",
   "id": "0a6835a4",
   "metadata": {},
   "source": [
    "### Make the Trainable Layers False"
   ]
  },
  {
   "cell_type": "code",
   "execution_count": 15,
   "id": "d0ed84e8",
   "metadata": {},
   "outputs": [],
   "source": [
    "for layer in base_model.layers:\n",
    "    layer.trainable = False"
   ]
  },
  {
   "cell_type": "markdown",
   "id": "0a0141c5",
   "metadata": {},
   "source": [
    "### Compile the model by selecting Appropriate Optimizer"
   ]
  },
  {
   "cell_type": "code",
   "execution_count": 16,
   "id": "c7b79762",
   "metadata": {},
   "outputs": [],
   "source": [
    "model.compile(\n",
    "    optimizer=\"adam\",\n",
    "    loss=\"categorical_crossentropy\",\n",
    "    metrics=[\"accuracy\"])"
   ]
  },
  {
   "cell_type": "markdown",
   "id": "face65b0",
   "metadata": {},
   "source": [
    "### Train the model"
   ]
  },
  {
   "cell_type": "code",
   "execution_count": 17,
   "id": "64880692",
   "metadata": {},
   "outputs": [
    {
     "name": "stdout",
     "output_type": "stream",
     "text": [
      "Epoch 1/5\n",
      "31/31 [==============================] - 652s 21s/step - loss: 1.4620 - accuracy: 0.7112 - val_loss: 0.7379 - val_accuracy: 0.8300\n",
      "Epoch 2/5\n",
      "31/31 [==============================] - 903s 29s/step - loss: 0.1526 - accuracy: 0.9522 - val_loss: 0.4968 - val_accuracy: 0.8500\n",
      "Epoch 3/5\n",
      "31/31 [==============================] - 703s 23s/step - loss: 0.0574 - accuracy: 0.9834 - val_loss: 0.3986 - val_accuracy: 0.8800\n",
      "Epoch 4/5\n",
      "31/31 [==============================] - 514s 17s/step - loss: 0.0245 - accuracy: 0.9964 - val_loss: 0.3992 - val_accuracy: 0.8500\n",
      "Epoch 5/5\n",
      "31/31 [==============================] - 644s 21s/step - loss: 0.0120 - accuracy: 0.9995 - val_loss: 0.4076 - val_accuracy: 0.8400\n"
     ]
    }
   ],
   "source": [
    "history = model.fit(train_generator,\n",
    "                    validation_data=valid_generator,\n",
    "                    epochs=5)"
   ]
  },
  {
   "cell_type": "markdown",
   "id": "16b907ef",
   "metadata": {},
   "source": [
    "### Evaluate the Test Accuracy"
   ]
  },
  {
   "cell_type": "code",
   "execution_count": 19,
   "id": "77f685cb",
   "metadata": {},
   "outputs": [
    {
     "name": "stdout",
     "output_type": "stream",
     "text": [
      "106/106 - 39s - loss: 0.3927 - accuracy: 0.8491 - 39s/epoch - 365ms/step\n",
      "0.849056601524353\n"
     ]
    }
   ],
   "source": [
    "test_loss, test_acc = model.evaluate(test_generator, verbose=2)\n",
    "print(test_acc)"
   ]
  },
  {
   "cell_type": "markdown",
   "id": "241474f7",
   "metadata": {},
   "source": [
    "### Save the Vgg16 model"
   ]
  },
  {
   "cell_type": "code",
   "execution_count": 20,
   "id": "79060fe6",
   "metadata": {},
   "outputs": [],
   "source": [
    "path=r\"C:\\Users\\GREESHMANTH\\Desktop\\Major Project\\Models\\VGG16.h5\"\n",
    "model.save(path)"
   ]
  }
 ],
 "metadata": {
  "kernelspec": {
   "display_name": "Python 3 (ipykernel)",
   "language": "python",
   "name": "python3"
  },
  "language_info": {
   "codemirror_mode": {
    "name": "ipython",
    "version": 3
   },
   "file_extension": ".py",
   "mimetype": "text/x-python",
   "name": "python",
   "nbconvert_exporter": "python",
   "pygments_lexer": "ipython3",
   "version": "3.9.7"
  }
 },
 "nbformat": 4,
 "nbformat_minor": 5
}
