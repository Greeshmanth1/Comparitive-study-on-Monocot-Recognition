{
 "cells": [
  {
   "cell_type": "code",
   "execution_count": 1,
   "id": "f08e263a",
   "metadata": {},
   "outputs": [],
   "source": [
    "from tensorflow import keras\n",
    "import numpy as np\n",
    "from tensorflow.keras.preprocessing.image import ImageDataGenerator, load_img\n",
    "from tensorflow.keras.applications.resnet50 import ResNet50, preprocess_input, decode_predictions\n",
    "from keras.preprocessing import image\n",
    "import matplotlib.pyplot as plt\n",
    "import numpy as np\n",
    "import tkinter as tk\n",
    "from tkinter import *\n",
    "from tkinter import filedialog\n",
    "from tkinter.filedialog import askopenfile\n",
    "from PIL import Image, ImageTk"
   ]
  },
  {
   "cell_type": "code",
   "execution_count": 2,
   "id": "ded679db",
   "metadata": {},
   "outputs": [],
   "source": [
    "def load_model(path):\n",
    "    model = keras.models.load_model(path)\n",
    "    model.compile(\n",
    "        optimizer=\"adam\",\n",
    "        loss=\"categorical_crossentropy\",\n",
    "        metrics=[\"accuracy\"])\n",
    "    return model"
   ]
  },
  {
   "cell_type": "code",
   "execution_count": 3,
   "id": "a629a003",
   "metadata": {},
   "outputs": [],
   "source": [
    "path=r\"C:\\Users\\GREESHMANTH\\Desktop\\Major Project\\Models\\ResNet50.h5\"\n",
    "model=load_model(path)"
   ]
  },
  {
   "cell_type": "code",
   "execution_count": 4,
   "id": "86a293e5",
   "metadata": {},
   "outputs": [],
   "source": [
    "word_dict = {0:'Banana',1:'Coconut',2:'Maize',3:'Sugarcane',4:'Wheat'}"
   ]
  },
  {
   "cell_type": "code",
   "execution_count": 5,
   "id": "6dfbda9f",
   "metadata": {},
   "outputs": [],
   "source": [
    "def predict(imagePath):\n",
    "    test_image = image.load_img(imagePath, target_size = (224,224)) \n",
    "    test_image = image.img_to_array(test_image)\n",
    "    test_image = np.expand_dims(test_image, axis = 0)\n",
    "    result = model.predict(test_image)\n",
    "    monocot=word_dict[np.argmax(result)]\n",
    "#     print(monocot)\n",
    "    l2 = tk.Label(my_w,text=\"The Predicted plant is \"+monocot,font=my_font2)\n",
    "    imagepath=\"\"\n",
    "    l2.place(x=160,y=405)"
   ]
  },
  {
   "cell_type": "code",
   "execution_count": 6,
   "id": "b4f6930c",
   "metadata": {},
   "outputs": [],
   "source": [
    "def upload_file():\n",
    "    f_types = [('Jpg Files', '*.jpg'), (\"JPEG Files\",'*.jpeg'),\n",
    "    ('PNG Files','*.png')]   # type of files to select\n",
    "    global filename\n",
    "    filename = tk.filedialog.askopenfilename(multiple=True,filetypes=f_types)\n",
    "\n",
    "    for f in filename:\n",
    "        img=Image.open(f) # read the image file\n",
    "        img=img.resize((224,224)) # new width & height\n",
    "        img=ImageTk.PhotoImage(img)\n",
    "        e1 =tk.Label(my_w)\n",
    "        e1.place(x=190,y=130)\n",
    "\n",
    "        e1.image = img\n",
    "        e1['image']=img\n",
    " # Keep the window open"
   ]
  },
  {
   "cell_type": "code",
   "execution_count": 8,
   "id": "0f52b991",
   "metadata": {},
   "outputs": [],
   "source": [
    "my_w = tk.Tk()\n",
    "my_w.geometry(\"600x500\")  # Size of the window\n",
    "my_w.title('Monocot Recognition System')\n",
    "my_font1=('times', 24, 'bold')\n",
    "my_font2=('times', 18)\n",
    "l1 = tk.Label(my_w,text='Upload Files & display',font=my_font2)\n",
    "l1.place(x=190,y=60)\n",
    "l2 = tk.Label(my_w, text=\"Monocot Recognition System\", font = my_font1)\n",
    "l2.place(x=125,y=15)\n",
    "b1 = tk.Button(my_w, text='Choose File',\n",
    "   width=20,command = lambda:upload_file())\n",
    "b1.place(x=230,y=100)\n",
    "# f=r\"F:\\DUMP\\logo.png\"\n",
    "# img=Image.open(f) # read the image file\n",
    "# img=img.resize((224,224)) # new width & height\n",
    "# img=ImageTk.PhotoImage(img)\n",
    "# e1 =tk.Label(my_w)\n",
    "# e1.place(x=190,y=130).\n",
    "# e1.image = img\n",
    "# e1['image']=img\n",
    "\n",
    "b2 = tk.Button(my_w, text='Predict',\n",
    "       width=20,command = lambda:predict(filename[0]))\n",
    "b2.place(x=235,y=375)\n",
    "my_w.mainloop() "
   ]
  }
 ],
 "metadata": {
  "kernelspec": {
   "display_name": "Python 3 (ipykernel)",
   "language": "python",
   "name": "python3"
  },
  "language_info": {
   "codemirror_mode": {
    "name": "ipython",
    "version": 3
   },
   "file_extension": ".py",
   "mimetype": "text/x-python",
   "name": "python",
   "nbconvert_exporter": "python",
   "pygments_lexer": "ipython3",
   "version": "3.9.7"
  }
 },
 "nbformat": 4,
 "nbformat_minor": 5
}
